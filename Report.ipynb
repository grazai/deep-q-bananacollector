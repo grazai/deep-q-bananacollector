{
 "cells": [
  {
   "cell_type": "code",
   "execution_count": null,
   "metadata": {
    "collapsed": true
   },
   "outputs": [],
   "source": [
    "os.environ['NO_PROXY'] = 'localhost,127.0.0.*'\n",
    "print(os.getcwd())\n",
    "#\tos.chdir(os.path.join(os.getcwd(), 'p1_navigation'))\n",
    "#\tprint(os.getcwd())\n",
    "#except:\n",
    "#\tpass\n",
    "\n",
    "from datetime import datetime\n",
    "start=datetime.now()\n",
    "scores = dqn()\n",
    "end=datetime.now()\n",
    "print(\"Duration: {}\".format(end-start))\n",
    "\n",
    "# plot the scores\n",
    "def plot(scores):\n",
    "    fig = plt.figure()\n",
    "    ax = fig.add_subplot(111)\n",
    "    plt.plot(np.arange(len(scores)), scores)\n",
    "    plt.ylabel('Score')\n",
    "    plt.xlabel('Episode #')\n",
    "    plt.show()\n"
   ]
  }
 ],
 "metadata": {
  "anaconda-cloud": {},
  "kernelspec": {
   "display_name": "Python [conda env:udacity-p1]",
   "language": "python",
   "name": "conda-env-udacity-p1-py"
  },
  "language_info": {
   "codemirror_mode": {
    "name": "ipython",
    "version": 3
   },
   "file_extension": ".py",
   "mimetype": "text/x-python",
   "name": "python",
   "nbconvert_exporter": "python",
   "pygments_lexer": "ipython3",
   "version": "3.6.7"
  }
 },
 "nbformat": 4,
 "nbformat_minor": 1
}
